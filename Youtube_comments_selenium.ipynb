{
 "cells": [
  {
   "cell_type": "markdown",
   "metadata": {},
   "source": [
    "#### Scraping comments from a Youtube video."
   ]
  },
  {
   "cell_type": "markdown",
   "metadata": {},
   "source": [
    "In this notebook, a python code is presented to scrape comments from a Youtube video.\n",
    "\n",
    "Some videos have a long list of comments, and users need to scroll the page down to render the entire page. Before running the code, it is required to enter the estimated time in seconds required to render all the comments (value of the variable **scroll_time** in the code below).\n",
    "\n",
    "It is also required to enter the estimated number of comments that the video has (value of the variable **no_of_comments** in the code below)."
   ]
  },
  {
   "cell_type": "code",
   "execution_count": 2,
   "metadata": {},
   "outputs": [],
   "source": [
    "import os\n",
    "import time\n",
    "import pandas as pd\n",
    "from selenium import webdriver\n",
    "from selenium.webdriver.common.keys import Keys\n",
    "from selenium.webdriver.support.ui import WebDriverWait\n",
    "from selenium.common.exceptions import TimeoutException\n",
    "from selenium.webdriver.support.wait import WebDriverWait\n",
    "\n",
    "# Start the clock for code execution time estimation.\n",
    "t00 = time.time()\n",
    "\n",
    "scroll_time = 5 # estimated time to complete the scrolling process\n",
    "no_of_comments = 100 # estimated number of comments in the video\n",
    "\n",
    "# Enter the video url below.\n",
    "url = \"https://www.youtube.com/test/test1\"\n",
    "\n",
    "# Open the browser\n",
    "driver = webdriver.Chrome()\n",
    "print('Opening the Browser.')\n",
    "driver.get(url)\n",
    "print('Browser opened the requested url.')\n",
    "time.sleep(3)\n",
    "element = driver.find_element_by_tag_name('body')\n",
    "print('Now Scrolling the page.....')\n",
    "\n",
    "t0 = time.time()\n",
    "\n",
    "while True:\n",
    "    element.send_keys(Keys.PAGE_DOWN)\n",
    "    print((time.time()-t0))\n",
    "    if time.time() - t0 > scroll_time: \n",
    "        break\n",
    "\n",
    "print('Scrolling finished')\n",
    "driver.close\n",
    "print('Browser closed')\n",
    "\n",
    "comments = driver.find_element_by_xpath('//*[@id=\"comments\"]')\n",
    "video_title = driver.find_element_by_xpath('//*[@id=\"container\"]/h1/yt-formatted-string').text\n",
    "users = []\n",
    "dates = []\n",
    "comment_ = []\n",
    "likes = []\n",
    "\n",
    "for index in range(0,no_of_comments):\n",
    "    try:\n",
    "        print(index)\n",
    "        users_iter = (comments.find_elements_by_xpath('//*[@id=\"author-text\"]/span'))[index].text\n",
    "        date_iter = (comments.find_elements_by_xpath('//*[@id=\"header-author\"]/yt-formatted-string/a'))[index].text\n",
    "        comment_iter = (comments.find_elements_by_xpath('//*[@id=\"content-text\"]'))[index].text\n",
    "        likes_iter = (comments.find_elements_by_xpath('//*[@id=\"vote-count-middle\"]'))[index].text\n",
    "        users.append(users_iter)\n",
    "        dates.append(date_iter)\n",
    "        comment_.append(comment_iter)\n",
    "        likes.append(likes_iter)\n",
    "    except IndexError:\n",
    "        pass\n",
    "    continue\n",
    "\n",
    "data = pd.DataFrame({\n",
    "    'user_name' : users,\n",
    "    'date' :  dates,\n",
    "    'likes' : likes,\n",
    "    'comment' : comment_\n",
    "    \n",
    "})\n",
    "print(data)\n",
    "driver.quit()\n",
    "\n",
    "# Save .xlsx file in you current working directory.\n",
    "path = os.getcwd()+f'/video_title_{video_title}.xlsx'\n",
    "data.to_excel(excel_writer= path, index = False)\n",
    "execution_time = time.time()-t00\n",
    "print('Code execution completed.')\n",
    "print('The code execution time (in seconds) is', execution_time)\n",
    "driver.quit()"
   ]
  },
  {
   "cell_type": "markdown",
   "metadata": {},
   "source": [
    "Author:\n",
    "\n",
    "Mangaljit Singh\n",
    "\n",
    "March 2022"
   ]
  }
 ],
 "metadata": {
  "interpreter": {
   "hash": "07ba029a63dcfa286f28eb3e41855caf70e98b697d744d736f4a475db6687448"
  },
  "kernelspec": {
   "display_name": "Python 3.9.7 ('base')",
   "language": "python",
   "name": "python3"
  },
  "language_info": {
   "codemirror_mode": {
    "name": "ipython",
    "version": 3
   },
   "file_extension": ".py",
   "mimetype": "text/x-python",
   "name": "python",
   "nbconvert_exporter": "python",
   "pygments_lexer": "ipython3",
   "version": "3.9.7"
  },
  "orig_nbformat": 4
 },
 "nbformat": 4,
 "nbformat_minor": 2
}
